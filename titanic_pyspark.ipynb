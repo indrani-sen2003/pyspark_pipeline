{
 "cells": [
  {
   "cell_type": "markdown",
   "metadata": {
    "application/vnd.databricks.v1+cell": {
     "cellMetadata": {
      "byteLimit": 2048000,
      "rowLimit": 10000
     },
     "inputWidgets": {},
     "nuid": "07df11e3-76ed-4924-bec9-8463841093be",
     "showTitle": false,
     "title": ""
    }
   },
   "source": [
    "### prediction of survival using pyspark in pipeline"
   ]
  },
  {
   "cell_type": "code",
   "execution_count": null,
   "metadata": {},
   "outputs": [],
   "source": [
    "import pyspark\n",
    "import numpy as np\n",
    "import pandas as pd\n",
    "import seaborn as sns\n",
    "from pyspark.ml.feature import StandardScaler,PCA\n",
    "from pyspark.sql import DataFrame\n",
    "from typing import Iterable"
   ]
  },
  {
   "cell_type": "code",
   "execution_count": 2,
   "metadata": {},
   "outputs": [],
   "source": [
    "from pyspark.ml.feature import StringIndexer,OneHotEncoder,VectorAssembler\n",
    "from pyspark.ml.classification import LogisticRegression,DecisionTreeClassifier,NaiveBayes,RandomForestClassifier\n",
    "from pyspark.ml.evaluation import BinaryClassificationEvaluator\n"
   ]
  },
  {
   "cell_type": "code",
   "execution_count": 3,
   "metadata": {},
   "outputs": [],
   "source": [
    "#creating spark environment\n",
    "from pyspark import SparkContext\n",
    "from pyspark.sql import SparkSession"
   ]
  },
  {
   "cell_type": "code",
   "execution_count": 4,
   "metadata": {},
   "outputs": [],
   "source": [
    "#libraries for creating machine learning pipeline\n",
    "from pyspark.ml import Pipeline\n",
    "from pyspark.ml import Transformer"
   ]
  },
  {
   "cell_type": "code",
   "execution_count": 5,
   "metadata": {},
   "outputs": [],
   "source": [
    "#creating sparkcontext and spark variables\n",
    "sc=SparkContext()\n",
    "spark=SparkSession.builder.master(\"local[1]\").appName(\"titan\").getOrCreate()"
   ]
  },
  {
   "cell_type": "code",
   "execution_count": 6,
   "metadata": {
    "application/vnd.databricks.v1+cell": {
     "cellMetadata": {
      "byteLimit": 2048000,
      "rowLimit": 10000
     },
     "inputWidgets": {},
     "nuid": "f583ce18-c778-4355-ad5f-0faa21b0910c",
     "showTitle": false,
     "title": ""
    }
   },
   "outputs": [],
   "source": [
    "#importing training dataset\n",
    "df_tr=spark.read.option(\"header\",True).option(\"inferSchema\",True).csv(\"c:/csv-ml/titanic_train.csv\")"
   ]
  },
  {
   "cell_type": "code",
   "execution_count": 7,
   "metadata": {
    "application/vnd.databricks.v1+cell": {
     "cellMetadata": {
      "byteLimit": 2048000,
      "rowLimit": 10000
     },
     "inputWidgets": {},
     "nuid": "1a8a75df-45c9-468b-b46a-10061982c654",
     "showTitle": false,
     "title": ""
    }
   },
   "outputs": [],
   "source": [
    "#importing test dataset\n",
    "df_test=spark.read.option(\"header\",True).option(\"inferSchema\",True).csv(\"c:/csv-ml/titanic_test.csv\")"
   ]
  },
  {
   "cell_type": "code",
   "execution_count": 8,
   "metadata": {
    "application/vnd.databricks.v1+cell": {
     "cellMetadata": {
      "byteLimit": 2048000,
      "rowLimit": 10000
     },
     "inputWidgets": {},
     "nuid": "2b19418e-197c-4c81-b8ae-b8a1ffea3072",
     "showTitle": false,
     "title": ""
    }
   },
   "outputs": [
    {
     "name": "stdout",
     "output_type": "stream",
     "text": [
      "+--------+------+--------------------+------+----+-----+-----+----------------+-------+-----+--------+\n",
      "|survived|pclass|                name|   sex| age|sibsp|parch|          ticket|   fare|cabin|embarked|\n",
      "+--------+------+--------------------+------+----+-----+-----+----------------+-------+-----+--------+\n",
      "|       0|     3|Braund, Mr. Owen ...|  male|22.0|    1|    0|       A/5 21171|   7.25| null|       S|\n",
      "|       1|     1|Cumings, Mrs. Joh...|female|38.0|    1|    0|        PC 17599|71.2833|  C85|       C|\n",
      "|       1|     3|Heikkinen, Miss. ...|female|26.0|    0|    0|STON/O2. 3101282|  7.925| null|       S|\n",
      "|       1|     1|Futrelle, Mrs. Ja...|female|35.0|    1|    0|          113803|   53.1| C123|       S|\n",
      "|       0|     3|Allen, Mr. Willia...|  male|35.0|    0|    0|          373450|   8.05| null|       S|\n",
      "+--------+------+--------------------+------+----+-----+-----+----------------+-------+-----+--------+\n",
      "only showing top 5 rows\n",
      "\n"
     ]
    }
   ],
   "source": [
    "#displaying traing dataset\n",
    "df_tr.show(5)"
   ]
  },
  {
   "cell_type": "code",
   "execution_count": 9,
   "metadata": {
    "application/vnd.databricks.v1+cell": {
     "cellMetadata": {
      "byteLimit": 2048000,
      "rowLimit": 10000
     },
     "inputWidgets": {},
     "nuid": "427ec0bc-b4f7-4e28-a8b8-6bc20ba08449",
     "showTitle": false,
     "title": ""
    }
   },
   "outputs": [
    {
     "data": {
      "text/plain": [
       "survived      0\n",
       "pclass        0\n",
       "name          0\n",
       "sex           0\n",
       "age         177\n",
       "sibsp         0\n",
       "parch         0\n",
       "ticket        0\n",
       "fare          0\n",
       "cabin       687\n",
       "embarked      2\n",
       "dtype: int64"
      ]
     },
     "execution_count": 9,
     "metadata": {},
     "output_type": "execute_result"
    }
   ],
   "source": [
    "#checking missing values in pandas\n",
    "df_tr_pd=df_tr.toPandas()\n",
    "df_test_pd=df_test.toPandas()\n",
    "df_tr_pd.isna().sum()"
   ]
  },
  {
   "cell_type": "code",
   "execution_count": 10,
   "metadata": {
    "application/vnd.databricks.v1+cell": {
     "cellMetadata": {
      "byteLimit": 2048000,
      "rowLimit": 10000
     },
     "inputWidgets": {},
     "nuid": "9f864a23-77ff-4d90-aa3a-aebaeee79d1d",
     "showTitle": false,
     "title": ""
    }
   },
   "outputs": [
    {
     "data": {
      "text/plain": [
       "pclass        0\n",
       "name          0\n",
       "sex           0\n",
       "age          86\n",
       "sibsp         0\n",
       "parch         0\n",
       "ticket        0\n",
       "fare          1\n",
       "cabin       327\n",
       "embarked      0\n",
       "dtype: int64"
      ]
     },
     "execution_count": 10,
     "metadata": {},
     "output_type": "execute_result"
    }
   ],
   "source": [
    "df_test_pd.isna().sum()"
   ]
  },
  {
   "cell_type": "code",
   "execution_count": 11,
   "metadata": {
    "application/vnd.databricks.v1+cell": {
     "cellMetadata": {
      "byteLimit": 2048000,
      "rowLimit": 10000
     },
     "inputWidgets": {},
     "nuid": "5923724d-92c4-4705-bb63-1e1e9cb8cf84",
     "showTitle": false,
     "title": ""
    }
   },
   "outputs": [
    {
     "data": {
      "text/html": [
       "<div>\n",
       "<style scoped>\n",
       "    .dataframe tbody tr th:only-of-type {\n",
       "        vertical-align: middle;\n",
       "    }\n",
       "\n",
       "    .dataframe tbody tr th {\n",
       "        vertical-align: top;\n",
       "    }\n",
       "\n",
       "    .dataframe thead th {\n",
       "        text-align: right;\n",
       "    }\n",
       "</style>\n",
       "<table border=\"1\" class=\"dataframe\">\n",
       "  <thead>\n",
       "    <tr style=\"text-align: right;\">\n",
       "      <th></th>\n",
       "      <th>survived</th>\n",
       "      <th>pclass</th>\n",
       "      <th>name</th>\n",
       "      <th>sex</th>\n",
       "      <th>age</th>\n",
       "      <th>sibsp</th>\n",
       "      <th>parch</th>\n",
       "      <th>ticket</th>\n",
       "      <th>fare</th>\n",
       "      <th>cabin</th>\n",
       "      <th>embarked</th>\n",
       "    </tr>\n",
       "  </thead>\n",
       "  <tbody>\n",
       "    <tr>\n",
       "      <th>0</th>\n",
       "      <td>0</td>\n",
       "      <td>3</td>\n",
       "      <td>Braund, Mr. Owen Harris</td>\n",
       "      <td>male</td>\n",
       "      <td>22.0</td>\n",
       "      <td>1</td>\n",
       "      <td>0</td>\n",
       "      <td>A/5 21171</td>\n",
       "      <td>7.2500</td>\n",
       "      <td>None</td>\n",
       "      <td>S</td>\n",
       "    </tr>\n",
       "    <tr>\n",
       "      <th>1</th>\n",
       "      <td>1</td>\n",
       "      <td>1</td>\n",
       "      <td>Cumings, Mrs. John Bradley (Florence Briggs Th...</td>\n",
       "      <td>female</td>\n",
       "      <td>38.0</td>\n",
       "      <td>1</td>\n",
       "      <td>0</td>\n",
       "      <td>PC 17599</td>\n",
       "      <td>71.2833</td>\n",
       "      <td>C85</td>\n",
       "      <td>C</td>\n",
       "    </tr>\n",
       "    <tr>\n",
       "      <th>2</th>\n",
       "      <td>1</td>\n",
       "      <td>3</td>\n",
       "      <td>Heikkinen, Miss. Laina</td>\n",
       "      <td>female</td>\n",
       "      <td>26.0</td>\n",
       "      <td>0</td>\n",
       "      <td>0</td>\n",
       "      <td>STON/O2. 3101282</td>\n",
       "      <td>7.9250</td>\n",
       "      <td>None</td>\n",
       "      <td>S</td>\n",
       "    </tr>\n",
       "    <tr>\n",
       "      <th>3</th>\n",
       "      <td>1</td>\n",
       "      <td>1</td>\n",
       "      <td>Futrelle, Mrs. Jacques Heath (Lily May Peel)</td>\n",
       "      <td>female</td>\n",
       "      <td>35.0</td>\n",
       "      <td>1</td>\n",
       "      <td>0</td>\n",
       "      <td>113803</td>\n",
       "      <td>53.1000</td>\n",
       "      <td>C123</td>\n",
       "      <td>S</td>\n",
       "    </tr>\n",
       "    <tr>\n",
       "      <th>4</th>\n",
       "      <td>0</td>\n",
       "      <td>3</td>\n",
       "      <td>Allen, Mr. William Henry</td>\n",
       "      <td>male</td>\n",
       "      <td>35.0</td>\n",
       "      <td>0</td>\n",
       "      <td>0</td>\n",
       "      <td>373450</td>\n",
       "      <td>8.0500</td>\n",
       "      <td>None</td>\n",
       "      <td>S</td>\n",
       "    </tr>\n",
       "  </tbody>\n",
       "</table>\n",
       "</div>"
      ],
      "text/plain": [
       "   survived  pclass                                               name  \\\n",
       "0         0       3                            Braund, Mr. Owen Harris   \n",
       "1         1       1  Cumings, Mrs. John Bradley (Florence Briggs Th...   \n",
       "2         1       3                             Heikkinen, Miss. Laina   \n",
       "3         1       1       Futrelle, Mrs. Jacques Heath (Lily May Peel)   \n",
       "4         0       3                           Allen, Mr. William Henry   \n",
       "\n",
       "      sex   age  sibsp  parch            ticket     fare cabin embarked  \n",
       "0    male  22.0      1      0         A/5 21171   7.2500  None        S  \n",
       "1  female  38.0      1      0          PC 17599  71.2833   C85        C  \n",
       "2  female  26.0      0      0  STON/O2. 3101282   7.9250  None        S  \n",
       "3  female  35.0      1      0            113803  53.1000  C123        S  \n",
       "4    male  35.0      0      0            373450   8.0500  None        S  "
      ]
     },
     "execution_count": 11,
     "metadata": {},
     "output_type": "execute_result"
    }
   ],
   "source": [
    "df_tr_pd.head()"
   ]
  },
  {
   "cell_type": "code",
   "execution_count": 12,
   "metadata": {
    "application/vnd.databricks.v1+cell": {
     "cellMetadata": {
      "byteLimit": 2048000,
      "rowLimit": 10000
     },
     "inputWidgets": {},
     "nuid": "80334a41-c82c-4dea-8bc3-c497e07ff76f",
     "showTitle": false,
     "title": ""
    }
   },
   "outputs": [
    {
     "data": {
      "text/plain": [
       "survived      int32\n",
       "pclass        int32\n",
       "name         object\n",
       "sex          object\n",
       "age         float64\n",
       "sibsp         int32\n",
       "parch         int32\n",
       "ticket       object\n",
       "fare        float64\n",
       "cabin        object\n",
       "embarked     object\n",
       "dtype: object"
      ]
     },
     "execution_count": 12,
     "metadata": {},
     "output_type": "execute_result"
    }
   ],
   "source": [
    "#checking datatypes\n",
    "df_tr_pd.dtypes"
   ]
  },
  {
   "cell_type": "code",
   "execution_count": 13,
   "metadata": {
    "application/vnd.databricks.v1+cell": {
     "cellMetadata": {
      "byteLimit": 2048000,
      "rowLimit": 10000
     },
     "inputWidgets": {},
     "nuid": "1585af0d-8370-487e-b180-746898c9fdd7",
     "showTitle": false,
     "title": ""
    }
   },
   "outputs": [
    {
     "data": {
      "text/plain": [
       "<seaborn.axisgrid.FacetGrid at 0x1fc12ebf010>"
      ]
     },
     "execution_count": 13,
     "metadata": {},
     "output_type": "execute_result"
    },
    {
     "data": {
      "image/png": "[encoded data removed]",
      "text/plain": [
       "<Figure size 500x500 with 1 Axes>"
      ]
     },
     "metadata": {},
     "output_type": "display_data"
    }
   ],
   "source": [
    "#univariate analysis of the columns with missing values\n",
    "#almost normal distribution so can be replaced with mean\n",
    "sns.displot(df_tr_pd[\"age\"])\n"
   ]
  },
  {
   "cell_type": "code",
   "execution_count": 14,
   "metadata": {
    "application/vnd.databricks.v1+cell": {
     "cellMetadata": {
      "byteLimit": 2048000,
      "rowLimit": 10000
     },
     "inputWidgets": {},
     "nuid": "fa21b7d8-188b-44ae-917d-a499746fedf8",
     "showTitle": false,
     "title": ""
    }
   },
   "outputs": [
    {
     "data": {
      "text/plain": [
       "<seaborn.axisgrid.FacetGrid at 0x1fc1904f050>"
      ]
     },
     "execution_count": 14,
     "metadata": {},
     "output_type": "execute_result"
    },
    {
     "data": {
      "image/png": "[encoded data removed]",
      "text/plain": [
       "<Figure size 500x500 with 1 Axes>"
      ]
     },
     "metadata": {},
     "output_type": "display_data"
    }
   ],
   "source": [
    "#highly right skewed data to be replaced with median\n",
    "sns.displot(df_test_pd[\"fare\"])"
   ]
  },
  {
   "cell_type": "code",
   "execution_count": 15,
   "metadata": {
    "application/vnd.databricks.v1+cell": {
     "cellMetadata": {
      "byteLimit": 2048000,
      "rowLimit": 10000
     },
     "inputWidgets": {},
     "nuid": "80fe30a1-a102-422b-8ed7-6f7fe07115ba",
     "showTitle": false,
     "title": ""
    }
   },
   "outputs": [
    {
     "data": {
      "text/plain": [
       "17.92159525773599"
      ]
     },
     "execution_count": 15,
     "metadata": {},
     "output_type": "execute_result"
    }
   ],
   "source": [
    "#ouliers are present\n",
    "df_test_pd[\"fare\"].kurtosis()"
   ]
  },
  {
   "cell_type": "code",
   "execution_count": 16,
   "metadata": {
    "application/vnd.databricks.v1+cell": {
     "cellMetadata": {
      "byteLimit": 2048000,
      "rowLimit": 10000
     },
     "inputWidgets": {},
     "nuid": "0997b18a-1c7c-4288-af0d-4a1ac092ef2c",
     "showTitle": false,
     "title": ""
    }
   },
   "outputs": [
    {
     "data": {
      "text/plain": [
       "0.38910778230082704"
      ]
     },
     "execution_count": 16,
     "metadata": {},
     "output_type": "execute_result"
    }
   ],
   "source": [
    "df_tr_pd[\"age\"].skew()"
   ]
  },
  {
   "cell_type": "code",
   "execution_count": 17,
   "metadata": {
    "application/vnd.databricks.v1+cell": {
     "cellMetadata": {
      "byteLimit": 2048000,
      "rowLimit": 10000
     },
     "inputWidgets": {},
     "nuid": "4aad0fcd-6fb7-41a6-b1c4-65b0c781367f",
     "showTitle": false,
     "title": ""
    }
   },
   "outputs": [
    {
     "data": {
      "text/plain": [
       "3.6872133081121405"
      ]
     },
     "execution_count": 17,
     "metadata": {},
     "output_type": "execute_result"
    }
   ],
   "source": [
    "df_test_pd[\"fare\"].skew()"
   ]
  },
  {
   "cell_type": "code",
   "execution_count": 18,
   "metadata": {
    "application/vnd.databricks.v1+cell": {
     "cellMetadata": {
      "byteLimit": 2048000,
      "rowLimit": 10000
     },
     "inputWidgets": {},
     "nuid": "0bfcd0e1-3211-4b7e-8ab7-fb95b7a118dd",
     "showTitle": false,
     "title": ""
    }
   },
   "outputs": [
    {
     "data": {
      "text/plain": [
       "'S'"
      ]
     },
     "execution_count": 18,
     "metadata": {},
     "output_type": "execute_result"
    }
   ],
   "source": [
    "#embarked column is categorical to be replaced with mode\n",
    "df_tr_pd[\"embarked\"].mode()[0]"
   ]
  },
  {
   "cell_type": "code",
   "execution_count": 19,
   "metadata": {
    "application/vnd.databricks.v1+cell": {
     "cellMetadata": {
      "byteLimit": 2048000,
      "rowLimit": 10000
     },
     "inputWidgets": {},
     "nuid": "ba89f196-7850-4d13-9014-73b5d7ab4a24",
     "showTitle": false,
     "title": ""
    }
   },
   "outputs": [
    {
     "data": {
      "text/plain": [
       "S    644\n",
       "C    168\n",
       "Q     77\n",
       "Name: embarked, dtype: int64"
      ]
     },
     "execution_count": 19,
     "metadata": {},
     "output_type": "execute_result"
    }
   ],
   "source": [
    "df_tr_pd[\"embarked\"].value_counts()"
   ]
  },
  {
   "cell_type": "code",
   "execution_count": 20,
   "metadata": {},
   "outputs": [],
   "source": [
    "#creating column transformer to drop specific columns in pipeline\n",
    "class ColumnDropper(Transformer):\n",
    "    \"\"\"\n",
    "    A custom Transformer which drops all columns \n",
    "    \"\"\"\n",
    "\n",
    "    def __init__(self, banned_list):\n",
    "       \n",
    "        self.banned_list = banned_list\n",
    "\n",
    "    def _transform(self, df: DataFrame) -> DataFrame:\n",
    "        for i in self.banned_list:\n",
    "            df=df.drop(i)\n",
    "       \n",
    "        return df\n"
   ]
  },
  {
   "cell_type": "code",
   "execution_count": 21,
   "metadata": {},
   "outputs": [],
   "source": [
    "#creating column transformer to fill missing values with mean\n",
    "class Columnfiller_mean(Transformer):\n",
    "    \"\"\"\n",
    "    A custom Transformer which drops all columns \n",
    "    \"\"\"\n",
    "\n",
    "    def __init__(self,col):\n",
    "       \n",
    "        self.col = col\n",
    "\n",
    "    def _transform(self, df: DataFrame) -> DataFrame:\n",
    "        m=df.agg({self.col:\"avg\"}).collect()[0][0]\n",
    "        df=df.fillna(value=m,subset=[self.col])       \n",
    "        return df"
   ]
  },
  {
   "cell_type": "code",
   "execution_count": 22,
   "metadata": {},
   "outputs": [],
   "source": [
    "#creating column transformer to fill missing values with median\n",
    "class Columnfiller_median(Transformer):\n",
    "    \"\"\"\n",
    "    A custom Transformer which drops all columns \n",
    "    \"\"\"\n",
    "\n",
    "    def __init__(self,col):\n",
    "       \n",
    "        self.col = col\n",
    "\n",
    "    def _transform(self, df: DataFrame) -> DataFrame:\n",
    "        q=df_tr.approxQuantile(\"fare\", [0.5], 0.0)\n",
    "        str_quant=\"\".join(str(q[0]))\n",
    "      \n",
    "        quant=float(str_quant)\n",
    "        df=df.fillna(value=quant,subset=[self.col])       \n",
    "        return df"
   ]
  },
  {
   "cell_type": "code",
   "execution_count": 23,
   "metadata": {},
   "outputs": [],
   "source": [
    "#creating column transformer to fill missing values with mode\n",
    "class Columnfiller_mode(Transformer):\n",
    "    \"\"\"\n",
    "    A custom Transformer which drops all columns \n",
    "    \"\"\"\n",
    "\n",
    "    def __init__(self,col):\n",
    "       \n",
    "        self.col = col\n",
    "\n",
    "    def _transform(self, df: DataFrame) -> DataFrame:\n",
    "        m=df.agg({self.col:\"max\"}).collect()[0][0]\n",
    "        df=df.fillna(value=m,subset=[self.col])        \n",
    "        return df"
   ]
  },
  {
   "cell_type": "code",
   "execution_count": 24,
   "metadata": {},
   "outputs": [],
   "source": [
    "#creating stages of cleaning pipeline\n",
    "stage1_clean=ColumnDropper(banned_list = [\"cabin\",\"ticket\",\"name\"])\n",
    "stage2_clean=Columnfiller_mean(\"age\")\n",
    "stage3_clean=Columnfiller_median(\"fare\")\n",
    "stage4_clean=Columnfiller_mode(\"embarked\")"
   ]
  },
  {
   "cell_type": "code",
   "execution_count": 25,
   "metadata": {},
   "outputs": [],
   "source": [
    "pipeline_clean=Pipeline(stages=[stage1_clean,stage2_clean,stage3_clean,stage4_clean])"
   ]
  },
  {
   "cell_type": "code",
   "execution_count": 26,
   "metadata": {},
   "outputs": [],
   "source": [
    "#fit and transform with the pipeline\n",
    "df_clean=pipeline_clean.fit(df_tr).transform(df_tr)"
   ]
  },
  {
   "cell_type": "code",
   "execution_count": 27,
   "metadata": {
    "application/vnd.databricks.v1+cell": {
     "cellMetadata": {
      "byteLimit": 2048000,
      "rowLimit": 10000
     },
     "inputWidgets": {},
     "nuid": "71716c2c-ab31-45c2-9f00-76dc9d87adac",
     "showTitle": false,
     "title": ""
    }
   },
   "outputs": [],
   "source": [
    "#creating stages of encoding pipeline(StringIndexer,OneHotEnder,VectorAssembler)\n",
    "stage1_encode=StringIndexer(inputCols=['sex','embarked'],outputCols=['sex_idx','embarked_idx'])\n",
    "stage2_encode=OneHotEncoder(inputCols=['sex_idx','embarked_idx'],outputCols=['sex_ohe','embarked_ohe'])\n",
    "stage3_encode=VectorAssembler(inputCols=['pclass',  'sex_ohe', 'age', 'sibsp', 'parch', 'fare', 'embarked_ohe'],outputCol=\"features\")"
   ]
  },
  {
   "cell_type": "code",
   "execution_count": 28,
   "metadata": {
    "application/vnd.databricks.v1+cell": {
     "cellMetadata": {
      "byteLimit": 2048000,
      "rowLimit": 10000
     },
     "inputWidgets": {},
     "nuid": "f940329b-120f-44f0-b58e-5b3f42ae670a",
     "showTitle": false,
     "title": ""
    }
   },
   "outputs": [],
   "source": [
    "pipeline_encode=Pipeline(stages=[stage1_encode,stage2_encode,stage3_encode])"
   ]
  },
  {
   "cell_type": "code",
   "execution_count": 29,
   "metadata": {
    "application/vnd.databricks.v1+cell": {
     "cellMetadata": {
      "byteLimit": 2048000,
      "rowLimit": 10000
     },
     "inputWidgets": {},
     "nuid": "da6ce6a4-1bf3-4bdd-874b-d3ed2fdaaf9e",
     "showTitle": false,
     "title": ""
    }
   },
   "outputs": [],
   "source": [
    "#fit and transform with encoding pipeleine\n",
    "df_final=pipeline_encode.fit(df_clean).transform(df_clean)"
   ]
  },
  {
   "cell_type": "code",
   "execution_count": 30,
   "metadata": {},
   "outputs": [],
   "source": [
    "#performing the cleaning operations with the test dataset as well\n",
    "df_clean_test=pipeline_clean.fit(df_test).transform(df_test)"
   ]
  },
  {
   "cell_type": "code",
   "execution_count": 31,
   "metadata": {},
   "outputs": [],
   "source": [
    "df_final_test=pipeline_encode.fit(df_clean_test).transform(df_clean_test)"
   ]
  },
  {
   "cell_type": "code",
   "execution_count": 32,
   "metadata": {
    "application/vnd.databricks.v1+cell": {
     "cellMetadata": {
      "byteLimit": 2048000,
      "rowLimit": 10000
     },
     "inputWidgets": {},
     "nuid": "0fc5f93d-cf95-4f3c-9813-572aba79a494",
     "showTitle": false,
     "title": ""
    }
   },
   "outputs": [
    {
     "name": "stdout",
     "output_type": "stream",
     "text": [
      "+--------+------+------+-----------------+-----+-----+-------+--------+-------+------------+-------------+-------------+--------------------+\n",
      "|survived|pclass|   sex|              age|sibsp|parch|   fare|embarked|sex_idx|embarked_idx|      sex_ohe| embarked_ohe|            features|\n",
      "+--------+------+------+-----------------+-----+-----+-------+--------+-------+------------+-------------+-------------+--------------------+\n",
      "|       0|     3|  male|             22.0|    1|    0|   7.25|       S|    0.0|         0.0|(1,[0],[1.0])|(2,[0],[1.0])|[3.0,1.0,22.0,1.0...|\n",
      "|       1|     1|female|             38.0|    1|    0|71.2833|       C|    1.0|         1.0|    (1,[],[])|(2,[1],[1.0])|[1.0,0.0,38.0,1.0...|\n",
      "|       1|     3|female|             26.0|    0|    0|  7.925|       S|    1.0|         0.0|    (1,[],[])|(2,[0],[1.0])|(8,[0,2,5,6],[3.0...|\n",
      "|       1|     1|female|             35.0|    1|    0|   53.1|       S|    1.0|         0.0|    (1,[],[])|(2,[0],[1.0])|[1.0,0.0,35.0,1.0...|\n",
      "|       0|     3|  male|             35.0|    0|    0|   8.05|       S|    0.0|         0.0|(1,[0],[1.0])|(2,[0],[1.0])|[3.0,1.0,35.0,0.0...|\n",
      "|       0|     3|  male|29.69911764705882|    0|    0| 8.4583|       Q|    0.0|         2.0|(1,[0],[1.0])|    (2,[],[])|(8,[0,1,2,5],[3.0...|\n",
      "|       0|     1|  male|             54.0|    0|    0|51.8625|       S|    0.0|         0.0|(1,[0],[1.0])|(2,[0],[1.0])|[1.0,1.0,54.0,0.0...|\n",
      "|       0|     3|  male|              2.0|    3|    1| 21.075|       S|    0.0|         0.0|(1,[0],[1.0])|(2,[0],[1.0])|[3.0,1.0,2.0,3.0,...|\n",
      "|       1|     3|female|             27.0|    0|    2|11.1333|       S|    1.0|         0.0|    (1,[],[])|(2,[0],[1.0])|[3.0,0.0,27.0,0.0...|\n",
      "|       1|     2|female|             14.0|    1|    0|30.0708|       C|    1.0|         1.0|    (1,[],[])|(2,[1],[1.0])|[2.0,0.0,14.0,1.0...|\n",
      "+--------+------+------+-----------------+-----+-----+-------+--------+-------+------------+-------------+-------------+--------------------+\n",
      "only showing top 10 rows\n",
      "\n"
     ]
    }
   ],
   "source": [
    "df_final.show(10)"
   ]
  },
  {
   "cell_type": "code",
   "execution_count": 33,
   "metadata": {
    "application/vnd.databricks.v1+cell": {
     "cellMetadata": {
      "byteLimit": 2048000,
      "rowLimit": 10000
     },
     "inputWidgets": {},
     "nuid": "bdf9d213-09b1-45b9-9eca-de1aac6e7af5",
     "showTitle": false,
     "title": ""
    }
   },
   "outputs": [],
   "source": [
    "#selecting only the feature vector and target variable\n",
    "df_final2=df_final.select(\"features\",\"survived\")"
   ]
  },
  {
   "cell_type": "code",
   "execution_count": 34,
   "metadata": {
    "application/vnd.databricks.v1+cell": {
     "cellMetadata": {
      "byteLimit": 2048000,
      "rowLimit": 10000
     },
     "inputWidgets": {},
     "nuid": "d4813b4a-dc5b-4844-928d-f26c8a80e24f",
     "showTitle": false,
     "title": ""
    }
   },
   "outputs": [
    {
     "name": "stdout",
     "output_type": "stream",
     "text": [
      "+--------------------+--------+\n",
      "|            features|survived|\n",
      "+--------------------+--------+\n",
      "|[3.0,1.0,22.0,1.0...|       0|\n",
      "|[1.0,0.0,38.0,1.0...|       1|\n",
      "|(8,[0,2,5,6],[3.0...|       1|\n",
      "|[1.0,0.0,35.0,1.0...|       1|\n",
      "|[3.0,1.0,35.0,0.0...|       0|\n",
      "|(8,[0,1,2,5],[3.0...|       0|\n",
      "|[1.0,1.0,54.0,0.0...|       0|\n",
      "|[3.0,1.0,2.0,3.0,...|       0|\n",
      "|[3.0,0.0,27.0,0.0...|       1|\n",
      "|[2.0,0.0,14.0,1.0...|       1|\n",
      "+--------------------+--------+\n",
      "only showing top 10 rows\n",
      "\n"
     ]
    }
   ],
   "source": [
    "df_final2.show(10)"
   ]
  },
  {
   "cell_type": "code",
   "execution_count": 35,
   "metadata": {
    "application/vnd.databricks.v1+cell": {
     "cellMetadata": {
      "byteLimit": 2048000,
      "rowLimit": 10000
     },
     "inputWidgets": {},
     "nuid": "01ba3db3-4f4d-4598-a9c6-c9c8b022bbf6",
     "showTitle": false,
     "title": ""
    }
   },
   "outputs": [],
   "source": [
    "#renaming the target variable to label for evaluation\n",
    "df_final2=df_final2.withColumnRenamed(\"survived\",\"label\")"
   ]
  },
  {
   "cell_type": "code",
   "execution_count": 36,
   "metadata": {},
   "outputs": [],
   "source": [
    "#split the data into train test\n",
    "tr,test=df_final2.randomSplit([.75,.25],seed=100)"
   ]
  },
  {
   "cell_type": "code",
   "execution_count": 37,
   "metadata": {
    "application/vnd.databricks.v1+cell": {
     "cellMetadata": {
      "byteLimit": 2048000,
      "rowLimit": 10000
     },
     "inputWidgets": {},
     "nuid": "a09d347f-1fbc-4fb7-9845-5f13c3787ab7",
     "showTitle": false,
     "title": ""
    }
   },
   "outputs": [],
   "source": [
    "#creating 3 types of model pipeline\n",
    "logit_pipeline=Pipeline(stages=[StandardScaler(inputCol=\"features\",outputCol=\"features_scaled\"),LogisticRegression(featuresCol=\"features_scaled\",labelCol=\"label\")])\n",
    "naive_pipeline=Pipeline(stages=[StandardScaler(inputCol=\"features\",outputCol=\"features_scaled\"),NaiveBayes(featuresCol=\"features_scaled\",labelCol=\"label\")])\n",
    "dtree_pipeline=Pipeline(stages=[StandardScaler(inputCol=\"features\",outputCol=\"features_scaled\"),DecisionTreeClassifier(featuresCol=\"features_scaled\",labelCol=\"label\")])\n"
   ]
  },
  {
   "cell_type": "code",
   "execution_count": 38,
   "metadata": {
    "application/vnd.databricks.v1+cell": {
     "cellMetadata": {
      "byteLimit": 2048000,
      "rowLimit": 10000
     },
     "inputWidgets": {},
     "nuid": "d9d312ae-64aa-46e7-a32a-877aef26f3d5",
     "showTitle": false,
     "title": ""
    }
   },
   "outputs": [],
   "source": [
    "#adding 3 types of classification model pipeline instances in a list\n",
    "model_pipeline=[logit_pipeline,naive_pipeline,dtree_pipeline]"
   ]
  },
  {
   "cell_type": "code",
   "execution_count": 39,
   "metadata": {},
   "outputs": [],
   "source": [
    "#creating an instance of binary evaluator\n",
    "eval1=BinaryClassificationEvaluator(labelCol=\"label\",rawPredictionCol=\"prediction\",metricName=\"areaUnderROC\")"
   ]
  },
  {
   "cell_type": "code",
   "execution_count": 40,
   "metadata": {
    "application/vnd.databricks.v1+cell": {
     "cellMetadata": {
      "byteLimit": 2048000,
      "rowLimit": 10000
     },
     "inputWidgets": {},
     "nuid": "ec128752-a761-4a8e-b13a-b654b30627d5",
     "showTitle": false,
     "title": ""
    }
   },
   "outputs": [],
   "source": [
    "#fitting the model and evaluation\n",
    "model_fit=[]\n",
    "eval_mod=[]\n",
    "for i in model_pipeline:\n",
    "    j=i.fit(tr).transform(tr)\n",
    "    eval_mod.append(eval1.evaluate(j))\n",
    "    model_fit.append(j)\n"
   ]
  },
  {
   "cell_type": "code",
   "execution_count": 41,
   "metadata": {
    "application/vnd.databricks.v1+cell": {
     "cellMetadata": {
      "byteLimit": 2048000,
      "rowLimit": 10000
     },
     "inputWidgets": {},
     "nuid": "5b176226-4a2a-492a-8d87-480c168ce999",
     "showTitle": false,
     "title": ""
    }
   },
   "outputs": [],
   "source": [
    "#creating a dataframe for viewiung training score\n",
    "df_model_tr=pd.DataFrame({\"model\":[\"logistic\",\"naive_bayes\",\"decision tree\"],\"roc_score_train\":eval_mod})\n",
    "    "
   ]
  },
  {
   "cell_type": "code",
   "execution_count": 42,
   "metadata": {},
   "outputs": [
    {
     "data": {
      "text/html": [
       "<div>\n",
       "<style scoped>\n",
       "    .dataframe tbody tr th:only-of-type {\n",
       "        vertical-align: middle;\n",
       "    }\n",
       "\n",
       "    .dataframe tbody tr th {\n",
       "        vertical-align: top;\n",
       "    }\n",
       "\n",
       "    .dataframe thead th {\n",
       "        text-align: right;\n",
       "    }\n",
       "</style>\n",
       "<table border=\"1\" class=\"dataframe\">\n",
       "  <thead>\n",
       "    <tr style=\"text-align: right;\">\n",
       "      <th></th>\n",
       "      <th>model</th>\n",
       "      <th>roc_score_train</th>\n",
       "    </tr>\n",
       "  </thead>\n",
       "  <tbody>\n",
       "    <tr>\n",
       "      <th>0</th>\n",
       "      <td>logistic</td>\n",
       "      <td>0.789169</td>\n",
       "    </tr>\n",
       "    <tr>\n",
       "      <th>1</th>\n",
       "      <td>naive_bayes</td>\n",
       "      <td>0.684833</td>\n",
       "    </tr>\n",
       "    <tr>\n",
       "      <th>2</th>\n",
       "      <td>decision tree</td>\n",
       "      <td>0.837700</td>\n",
       "    </tr>\n",
       "  </tbody>\n",
       "</table>\n",
       "</div>"
      ],
      "text/plain": [
       "           model  roc_score_train\n",
       "0       logistic         0.789169\n",
       "1    naive_bayes         0.684833\n",
       "2  decision tree         0.837700"
      ]
     },
     "execution_count": 42,
     "metadata": {},
     "output_type": "execute_result"
    }
   ],
   "source": [
    "df_model_tr"
   ]
  },
  {
   "cell_type": "code",
   "execution_count": 43,
   "metadata": {},
   "outputs": [],
   "source": [
    "#prediction with the validation dataset \n",
    "model_fit_test=[]\n",
    "eval_mod_test=[]\n",
    "for i in model_pipeline:\n",
    "    j=i.fit(tr).transform(test) #fitting with train ,prediction with test\n",
    "    eval_mod_test.append(eval1.evaluate(j))\n",
    "    model_fit_test.append(j)\n"
   ]
  },
  {
   "cell_type": "code",
   "execution_count": 44,
   "metadata": {},
   "outputs": [],
   "source": [
    "df_model_test=pd.DataFrame({\"model\":[\"logistic\",\"naive_bayes\",\"decision tree\"],\"roc_score_test\":eval_mod_test})\n",
    "    "
   ]
  },
  {
   "cell_type": "code",
   "execution_count": 45,
   "metadata": {},
   "outputs": [
    {
     "data": {
      "text/html": [
       "<div>\n",
       "<style scoped>\n",
       "    .dataframe tbody tr th:only-of-type {\n",
       "        vertical-align: middle;\n",
       "    }\n",
       "\n",
       "    .dataframe tbody tr th {\n",
       "        vertical-align: top;\n",
       "    }\n",
       "\n",
       "    .dataframe thead th {\n",
       "        text-align: right;\n",
       "    }\n",
       "</style>\n",
       "<table border=\"1\" class=\"dataframe\">\n",
       "  <thead>\n",
       "    <tr style=\"text-align: right;\">\n",
       "      <th></th>\n",
       "      <th>model</th>\n",
       "      <th>roc_score_test</th>\n",
       "    </tr>\n",
       "  </thead>\n",
       "  <tbody>\n",
       "    <tr>\n",
       "      <th>0</th>\n",
       "      <td>logistic</td>\n",
       "      <td>0.779561</td>\n",
       "    </tr>\n",
       "    <tr>\n",
       "      <th>1</th>\n",
       "      <td>naive_bayes</td>\n",
       "      <td>0.682000</td>\n",
       "    </tr>\n",
       "    <tr>\n",
       "      <th>2</th>\n",
       "      <td>decision tree</td>\n",
       "      <td>0.716488</td>\n",
       "    </tr>\n",
       "  </tbody>\n",
       "</table>\n",
       "</div>"
      ],
      "text/plain": [
       "           model  roc_score_test\n",
       "0       logistic        0.779561\n",
       "1    naive_bayes        0.682000\n",
       "2  decision tree        0.716488"
      ]
     },
     "execution_count": 45,
     "metadata": {},
     "output_type": "execute_result"
    }
   ],
   "source": [
    "#dataframe to display test score\n",
    "df_model_test"
   ]
  },
  {
   "cell_type": "code",
   "execution_count": 46,
   "metadata": {},
   "outputs": [],
   "source": [
    "#prediction with actual test dataset with no target variable\n",
    "df_final_test2=df_final_test.select(\"features\")"
   ]
  },
  {
   "cell_type": "code",
   "execution_count": 47,
   "metadata": {},
   "outputs": [],
   "source": [
    "df_test2=logit_pipeline.fit(df_final2).transform(df_final_test2)"
   ]
  },
  {
   "cell_type": "code",
   "execution_count": 49,
   "metadata": {},
   "outputs": [
    {
     "name": "stdout",
     "output_type": "stream",
     "text": [
      "+--------------------+--------------------+--------------------+--------------------+----------+\n",
      "|            features|     features_scaled|       rawPrediction|         probability|prediction|\n",
      "+--------------------+--------------------+--------------------+--------------------+----------+\n",
      "|(8,[0,1,2,5],[3.0...|(8,[0,1,2,5],[3.5...|[2.13290799369150...|[0.89406075799583...|       0.0|\n",
      "|[3.0,0.0,47.0,1.0...|[3.58821097170396...|[0.61119899329456...|[0.64821426012167...|       0.0|\n",
      "|(8,[0,1,2,5],[2.0...|(8,[0,1,2,5],[2.3...|[2.11774139220002...|[0.89261562715057...|       0.0|\n",
      "|[3.0,1.0,27.0,0.0...|[3.58821097170396...|[2.21501727133546...|[0.90158998447085...|       0.0|\n",
      "|[3.0,0.0,22.0,1.0...|[3.58821097170396...|[-0.2961177868425...|[0.42650679562305...|       1.0|\n",
      "|[3.0,1.0,14.0,0.0...|[3.58821097170396...|[1.69831966847188...|[0.84531514651789...|       0.0|\n",
      "|(8,[0,2,5],[3.0,3...|(8,[0,2,5],[3.588...|[-0.7723877161417...|[0.31596282179212...|       1.0|\n",
      "|[2.0,1.0,26.0,1.0...|[2.39214064780264...|[1.45475701537932...|[0.81072946386585...|       0.0|\n",
      "|(8,[0,2,5,7],[3.0...|(8,[0,2,5,7],[3.5...|[-1.2802088216909...|[0.21751467960172...|       1.0|\n",
      "|[3.0,1.0,21.0,2.0...|[3.58821097170396...|[2.60049642755504...|[0.93089352205689...|       0.0|\n",
      "|[3.0,1.0,30.27259...|[3.58821097170396...|[2.34631564788756...|[0.91264092974934...|       0.0|\n",
      "|[1.0,1.0,46.0,0.0...|[1.19607032390132...|[0.73016774181119...|[0.67484208128876...|       0.0|\n",
      "|[1.0,0.0,23.0,1.0...|[1.19607032390132...|[-2.6927032444858...|[0.06340529639640...|       1.0|\n",
      "|[2.0,1.0,63.0,1.0...|[2.39214064780264...|[2.83352015579231...|[0.94446054039610...|       0.0|\n",
      "|[1.0,0.0,47.0,1.0...|[1.19607032390132...|[-1.6994664739931...|[0.15453495949282...|       1.0|\n",
      "|[2.0,0.0,24.0,1.0...|[2.39214064780264...|[-1.8577255245495...|[0.13496838091598...|       1.0|\n",
      "|(8,[0,1,2,5],[2.0...|(8,[0,1,2,5],[2.3...|[1.04166935218647...|[0.73917198026091...|       0.0|\n",
      "|[3.0,1.0,21.0,0.0...|[3.58821097170396...|[1.56599576876607...|[0.82721202399282...|       0.0|\n",
      "|[3.0,0.0,27.0,1.0...|[3.58821097170396...|[-0.1838373285575...|[0.45416966932745...|       1.0|\n",
      "|(8,[0,2,5,7],[3.0...|(8,[0,2,5,7],[3.5...|[-0.2093509146963...|[0.44785259122172...|       1.0|\n",
      "+--------------------+--------------------+--------------------+--------------------+----------+\n",
      "only showing top 20 rows\n",
      "\n"
     ]
    }
   ],
   "source": [
    "df_test2.show()"
   ]
  },
  {
   "cell_type": "code",
   "execution_count": 54,
   "metadata": {},
   "outputs": [],
   "source": [
    "#add this prediction to the test dataframe\n",
    "df_test_pd=df_test.toPandas()\n",
    "df_test2_pd=df_test2.toPandas()"
   ]
  },
  {
   "cell_type": "code",
   "execution_count": 55,
   "metadata": {},
   "outputs": [],
   "source": [
    "df_test_pd[\"pred_survived\"]=df_test2_pd[\"prediction\"]"
   ]
  },
  {
   "cell_type": "code",
   "execution_count": 56,
   "metadata": {},
   "outputs": [
    {
     "data": {
      "text/html": [
       "<div>\n",
       "<style scoped>\n",
       "    .dataframe tbody tr th:only-of-type {\n",
       "        vertical-align: middle;\n",
       "    }\n",
       "\n",
       "    .dataframe tbody tr th {\n",
       "        vertical-align: top;\n",
       "    }\n",
       "\n",
       "    .dataframe thead th {\n",
       "        text-align: right;\n",
       "    }\n",
       "</style>\n",
       "<table border=\"1\" class=\"dataframe\">\n",
       "  <thead>\n",
       "    <tr style=\"text-align: right;\">\n",
       "      <th></th>\n",
       "      <th>pclass</th>\n",
       "      <th>name</th>\n",
       "      <th>sex</th>\n",
       "      <th>age</th>\n",
       "      <th>sibsp</th>\n",
       "      <th>parch</th>\n",
       "      <th>ticket</th>\n",
       "      <th>fare</th>\n",
       "      <th>cabin</th>\n",
       "      <th>embarked</th>\n",
       "      <th>pred_survived</th>\n",
       "    </tr>\n",
       "  </thead>\n",
       "  <tbody>\n",
       "    <tr>\n",
       "      <th>0</th>\n",
       "      <td>3</td>\n",
       "      <td>Kelly, Mr. James</td>\n",
       "      <td>male</td>\n",
       "      <td>34.5</td>\n",
       "      <td>0</td>\n",
       "      <td>0</td>\n",
       "      <td>330911</td>\n",
       "      <td>7.8292</td>\n",
       "      <td>None</td>\n",
       "      <td>Q</td>\n",
       "      <td>0.0</td>\n",
       "    </tr>\n",
       "    <tr>\n",
       "      <th>1</th>\n",
       "      <td>3</td>\n",
       "      <td>Wilkes, Mrs. James (Ellen Needs)</td>\n",
       "      <td>female</td>\n",
       "      <td>47.0</td>\n",
       "      <td>1</td>\n",
       "      <td>0</td>\n",
       "      <td>363272</td>\n",
       "      <td>7.0000</td>\n",
       "      <td>None</td>\n",
       "      <td>S</td>\n",
       "      <td>0.0</td>\n",
       "    </tr>\n",
       "    <tr>\n",
       "      <th>2</th>\n",
       "      <td>2</td>\n",
       "      <td>Myles, Mr. Thomas Francis</td>\n",
       "      <td>male</td>\n",
       "      <td>62.0</td>\n",
       "      <td>0</td>\n",
       "      <td>0</td>\n",
       "      <td>240276</td>\n",
       "      <td>9.6875</td>\n",
       "      <td>None</td>\n",
       "      <td>Q</td>\n",
       "      <td>0.0</td>\n",
       "    </tr>\n",
       "    <tr>\n",
       "      <th>3</th>\n",
       "      <td>3</td>\n",
       "      <td>Wirz, Mr. Albert</td>\n",
       "      <td>male</td>\n",
       "      <td>27.0</td>\n",
       "      <td>0</td>\n",
       "      <td>0</td>\n",
       "      <td>315154</td>\n",
       "      <td>8.6625</td>\n",
       "      <td>None</td>\n",
       "      <td>S</td>\n",
       "      <td>0.0</td>\n",
       "    </tr>\n",
       "    <tr>\n",
       "      <th>4</th>\n",
       "      <td>3</td>\n",
       "      <td>Hirvonen, Mrs. Alexander (Helga E Lindqvist)</td>\n",
       "      <td>female</td>\n",
       "      <td>22.0</td>\n",
       "      <td>1</td>\n",
       "      <td>1</td>\n",
       "      <td>3101298</td>\n",
       "      <td>12.2875</td>\n",
       "      <td>None</td>\n",
       "      <td>S</td>\n",
       "      <td>1.0</td>\n",
       "    </tr>\n",
       "  </tbody>\n",
       "</table>\n",
       "</div>"
      ],
      "text/plain": [
       "   pclass                                          name     sex   age  sibsp  \\\n",
       "0       3                              Kelly, Mr. James    male  34.5      0   \n",
       "1       3              Wilkes, Mrs. James (Ellen Needs)  female  47.0      1   \n",
       "2       2                     Myles, Mr. Thomas Francis    male  62.0      0   \n",
       "3       3                              Wirz, Mr. Albert    male  27.0      0   \n",
       "4       3  Hirvonen, Mrs. Alexander (Helga E Lindqvist)  female  22.0      1   \n",
       "\n",
       "   parch   ticket     fare cabin embarked  pred_survived  \n",
       "0      0   330911   7.8292  None        Q            0.0  \n",
       "1      0   363272   7.0000  None        S            0.0  \n",
       "2      0   240276   9.6875  None        Q            0.0  \n",
       "3      0   315154   8.6625  None        S            0.0  \n",
       "4      1  3101298  12.2875  None        S            1.0  "
      ]
     },
     "execution_count": 56,
     "metadata": {},
     "output_type": "execute_result"
    }
   ],
   "source": [
    "df_test_pd.head()"
   ]
  },
  {
   "cell_type": "code",
   "execution_count": null,
   "metadata": {},
   "outputs": [],
   "source": []
  }
 ],
 "metadata": {
  "application/vnd.databricks.v1+notebook": {
   "dashboards": [],
   "language": "python",
   "notebookMetadata": {
    "pythonIndentUnit": 4
   },
   "notebookName": "titanic_pyspark 2023-09-17 09:38:15",
   "widgets": {}
  },
  "kernelspec": {
   "display_name": "Python 3 (ipykernel)",
   "language": "python",
   "name": "python3"
  },
  "language_info": {
   "codemirror_mode": {
    "name": "ipython",
    "version": 3
   },
   "file_extension": ".py",
   "mimetype": "text/x-python",
   "name": "python",
   "nbconvert_exporter": "python",
   "pygments_lexer": "ipython3",
   "version": "3.11.3"
  }
 },
 "nbformat": 4,
 "nbformat_minor": 1
}
